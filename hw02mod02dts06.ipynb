{
 "cells": [
  {
   "cell_type": "markdown",
   "metadata": {},
   "source": [
    "# Homework: Introduction to probability"
   ]
  },
  {
   "cell_type": "markdown",
   "metadata": {},
   "source": [
    "### Class-02 Module-02 DTS-06 Henry Bootcamp"
   ]
  },
  {
   "cell_type": "markdown",
   "metadata": {},
   "source": [
    " 1. Flip a coin 10 times, how many possible outcomes are part of the sample space?"
   ]
  },
  {
   "cell_type": "code",
   "execution_count": 1,
   "metadata": {},
   "outputs": [
    {
     "name": "stdout",
     "output_type": "stream",
     "text": [
      "Los resultados posibles son: 1024\n"
     ]
    }
   ],
   "source": [
    "nro_tiros = int(input(\"¿Cuántas veces se va a tirar la moneda: \"))\n",
    "resultados = 2 ** nro_tiros\n",
    "print(\"Los resultados posibles son:\", resultados)\n"
   ]
  },
  {
   "cell_type": "markdown",
   "metadata": {},
   "source": [
    "2. In an airport there are 10 passengers waiting in the pre-boarding hall, the police must control 3 of them. How many possible combinations can be obtained?"
   ]
  },
  {
   "cell_type": "code",
   "execution_count": 2,
   "metadata": {},
   "outputs": [
    {
     "name": "stdout",
     "output_type": "stream",
     "text": [
      "120.0\n",
      "720.0\n"
     ]
    }
   ],
   "source": [
    "from math import factorial\n",
    "#Combinación\n",
    "control_aeropuerto = factorial(10) / (factorial(3) * factorial(10-3))\n",
    "print(control_aeropuerto)\n",
    "#Permutación\n",
    "control_aeropuerto = factorial(10) / factorial(10-3)\n",
    "print(control_aeropuerto)"
   ]
  }
 ],
 "metadata": {
  "kernelspec": {
   "display_name": "Python 3.9.7 64-bit",
   "language": "python",
   "name": "python3"
  },
  "language_info": {
   "codemirror_mode": {
    "name": "ipython",
    "version": 3
   },
   "file_extension": ".py",
   "mimetype": "text/x-python",
   "name": "python",
   "nbconvert_exporter": "python",
   "pygments_lexer": "ipython3",
   "version": "3.9.7"
  },
  "orig_nbformat": 4,
  "vscode": {
   "interpreter": {
    "hash": "16532c3f4e797c2283da1d94df152728ed593c49c2c281ecaf73c87d43f97e77"
   }
  }
 },
 "nbformat": 4,
 "nbformat_minor": 2
}
